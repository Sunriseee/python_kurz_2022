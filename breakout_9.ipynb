{
 "cells": [
  {
   "cell_type": "code",
   "execution_count": 120,
   "metadata": {},
   "outputs": [],
   "source": [
    "import pandas\n",
    "\n",
    "jmena = pandas.read_csv(\"jmena.csv\")\n",
    "\n",
    "\n"
   ]
  },
  {
   "cell_type": "code",
   "execution_count": 121,
   "metadata": {},
   "outputs": [
    {
     "name": "stdout",
     "output_type": "stream",
     "text": [
      "Index(['Jiří', 'Jan', 'Petr', 'Jana', 'Marie', 'Josef', 'Pavel', 'Martin',\n",
      "       'Tomáš', 'Jaroslav', 'Eva', 'Miroslav', 'Hana', 'Anna', 'Zdeněk',\n",
      "       'Václav', 'Michal', 'František', 'Lenka', 'Kateřina', 'Lucie', 'Jakub',\n",
      "       'Milan', 'Věra', 'Alena', 'Karel', 'Lukáš', 'Petra', 'David',\n",
      "       'Veronika', 'Jaroslava', 'Vladimír', 'Tereza', 'Martina', 'Michaela',\n",
      "       'Jitka', 'Ondřej', 'Helena', 'Ludmila', 'Ladislav', 'Zdeňka', 'Ivana',\n",
      "       'Roman', 'Monika', 'Marek', 'Stanislav', 'Eliška', 'Zuzana', 'Daniel',\n",
      "       'Markéta', 'Jarmila', 'Radek', 'Barbora', 'Jiřina', 'Antonín',\n",
      "       'Marcela', 'Vojtěch', 'Kristýna', 'Dana', 'Dagmar', 'Filip', 'Adam',\n",
      "       'Adéla', 'Pavla', 'Vlasta', 'Andrea', 'Miroslava', 'Irena', 'Božena',\n",
      "       'Klára', 'Libuše', 'Marta', 'Matěj', 'Šárka', 'Nikola', 'Karolína',\n",
      "       'Iveta', 'Pavlína', 'Natálie', 'Olga', 'Dominik', 'Aleš', 'Miloslav',\n",
      "       'Blanka', 'Gabriela', 'Jaromír', 'Patrik', 'Renata', 'Libor', 'Aneta',\n",
      "       'Simona', 'Růžena', 'Radka', 'Daniela', 'Denisa', 'Jindřich',\n",
      "       'Vlastimil', 'Iva', 'Miloš', 'Zdenka'],\n",
      "      dtype='object', name='jméno')\n"
     ]
    }
   ],
   "source": [
    "\n",
    "jmena = jmena.set_index(\"jméno\")\n",
    "print(jmena.index)\n",
    "\n"
   ]
  },
  {
   "cell_type": "code",
   "execution_count": 122,
   "metadata": {},
   "outputs": [
    {
     "name": "stdout",
     "output_type": "stream",
     "text": [
      "četnost    296090\n",
      "věk            49\n",
      "pohlaví         m\n",
      "svátek       24.4\n",
      "původ       řecký\n",
      "Name: Jiří, dtype: object\n"
     ]
    }
   ],
   "source": [
    "print(jmena.loc[\"Jiří\"])"
   ]
  },
  {
   "cell_type": "code",
   "execution_count": 123,
   "metadata": {},
   "outputs": [
    {
     "name": "stdout",
     "output_type": "stream",
     "text": [
      "četnost    296090\n",
      "věk            49\n",
      "pohlaví         m\n",
      "svátek       24.4\n",
      "původ       řecký\n",
      "Name: Jiří, dtype: object\n"
     ]
    }
   ],
   "source": [
    "print(jmena.loc[\"Jiří\"])\n"
   ]
  },
  {
   "cell_type": "code",
   "execution_count": 124,
   "metadata": {},
   "outputs": [
    {
     "name": "stdout",
     "output_type": "stream",
     "text": [
      "         četnost  věk pohlaví svátek      původ\n",
      "jméno                                          \n",
      "Zuzana     61382   34       ž   11.8  hebrejský\n",
      "Martina    81312   36       ž   17.7   latinský\n",
      "Josef     211317   57       m   19.3  hebrejský\n"
     ]
    }
   ],
   "source": [
    "print(jmena.loc[[\"Zuzana\",\"Martina\",\"Josef\"]])\n"
   ]
  },
  {
   "cell_type": "code",
   "execution_count": 125,
   "metadata": {},
   "outputs": [],
   "source": [
    "holky = (jmena.loc[\"Martina\":\"Zuzana\", \"věk\"])\n"
   ]
  },
  {
   "cell_type": "code",
   "execution_count": 126,
   "metadata": {},
   "outputs": [
    {
     "data": {
      "text/html": [
       "<div>\n",
       "<style scoped>\n",
       "    .dataframe tbody tr th:only-of-type {\n",
       "        vertical-align: middle;\n",
       "    }\n",
       "\n",
       "    .dataframe tbody tr th {\n",
       "        vertical-align: top;\n",
       "    }\n",
       "\n",
       "    .dataframe thead th {\n",
       "        text-align: right;\n",
       "    }\n",
       "</style>\n",
       "<table border=\"1\" class=\"dataframe\">\n",
       "  <thead>\n",
       "    <tr style=\"text-align: right;\">\n",
       "      <th></th>\n",
       "      <th>věk</th>\n",
       "      <th>původ</th>\n",
       "    </tr>\n",
       "    <tr>\n",
       "      <th>jméno</th>\n",
       "      <th></th>\n",
       "      <th></th>\n",
       "    </tr>\n",
       "  </thead>\n",
       "  <tbody>\n",
       "    <tr>\n",
       "      <th>Libor</th>\n",
       "      <td>44</td>\n",
       "      <td>latinský</td>\n",
       "    </tr>\n",
       "    <tr>\n",
       "      <th>Aneta</th>\n",
       "      <td>17</td>\n",
       "      <td>hebrejský</td>\n",
       "    </tr>\n",
       "    <tr>\n",
       "      <th>Simona</th>\n",
       "      <td>30</td>\n",
       "      <td>hebrejský</td>\n",
       "    </tr>\n",
       "    <tr>\n",
       "      <th>Růžena</th>\n",
       "      <td>69</td>\n",
       "      <td>slovanský</td>\n",
       "    </tr>\n",
       "    <tr>\n",
       "      <th>Radka</th>\n",
       "      <td>38</td>\n",
       "      <td>slovanský</td>\n",
       "    </tr>\n",
       "    <tr>\n",
       "      <th>Daniela</th>\n",
       "      <td>38</td>\n",
       "      <td>hebrejský</td>\n",
       "    </tr>\n",
       "    <tr>\n",
       "      <th>Denisa</th>\n",
       "      <td>23</td>\n",
       "      <td>řecký</td>\n",
       "    </tr>\n",
       "    <tr>\n",
       "      <th>Jindřich</th>\n",
       "      <td>51</td>\n",
       "      <td>německý</td>\n",
       "    </tr>\n",
       "    <tr>\n",
       "      <th>Vlastimil</th>\n",
       "      <td>54</td>\n",
       "      <td>slovanský</td>\n",
       "    </tr>\n",
       "    <tr>\n",
       "      <th>Iva</th>\n",
       "      <td>46</td>\n",
       "      <td>slovanský</td>\n",
       "    </tr>\n",
       "    <tr>\n",
       "      <th>Miloš</th>\n",
       "      <td>53</td>\n",
       "      <td>slovanský</td>\n",
       "    </tr>\n",
       "    <tr>\n",
       "      <th>Zdenka</th>\n",
       "      <td>68</td>\n",
       "      <td>slovanský</td>\n",
       "    </tr>\n",
       "  </tbody>\n",
       "</table>\n",
       "</div>"
      ],
      "text/plain": [
       "           věk      původ\n",
       "jméno                    \n",
       "Libor       44   latinský\n",
       "Aneta       17  hebrejský\n",
       "Simona      30  hebrejský\n",
       "Růžena      69  slovanský\n",
       "Radka       38  slovanský\n",
       "Daniela     38  hebrejský\n",
       "Denisa      23      řecký\n",
       "Jindřich    51    německý\n",
       "Vlastimil   54  slovanský\n",
       "Iva         46  slovanský\n",
       "Miloš       53  slovanský\n",
       "Zdenka      68  slovanský"
      ]
     },
     "execution_count": 126,
     "metadata": {},
     "output_type": "execute_result"
    }
   ],
   "source": [
    "jmena.loc[\"Libor\":,[\"věk\",\"původ\"]]"
   ]
  },
  {
   "cell_type": "code",
   "execution_count": 127,
   "metadata": {},
   "outputs": [
    {
     "data": {
      "text/html": [
       "<div>\n",
       "<style scoped>\n",
       "    .dataframe tbody tr th:only-of-type {\n",
       "        vertical-align: middle;\n",
       "    }\n",
       "\n",
       "    .dataframe tbody tr th {\n",
       "        vertical-align: top;\n",
       "    }\n",
       "\n",
       "    .dataframe thead th {\n",
       "        text-align: right;\n",
       "    }\n",
       "</style>\n",
       "<table border=\"1\" class=\"dataframe\">\n",
       "  <thead>\n",
       "    <tr style=\"text-align: right;\">\n",
       "      <th></th>\n",
       "      <th>věk</th>\n",
       "      <th>pohlaví</th>\n",
       "      <th>svátek</th>\n",
       "      <th>původ</th>\n",
       "    </tr>\n",
       "    <tr>\n",
       "      <th>jméno</th>\n",
       "      <th></th>\n",
       "      <th></th>\n",
       "      <th></th>\n",
       "      <th></th>\n",
       "    </tr>\n",
       "  </thead>\n",
       "  <tbody>\n",
       "    <tr>\n",
       "      <th>Jiří</th>\n",
       "      <td>49</td>\n",
       "      <td>m</td>\n",
       "      <td>24.4</td>\n",
       "      <td>řecký</td>\n",
       "    </tr>\n",
       "    <tr>\n",
       "      <th>Jan</th>\n",
       "      <td>40</td>\n",
       "      <td>m</td>\n",
       "      <td>24.6. a 6.7</td>\n",
       "      <td>hebrejský</td>\n",
       "    </tr>\n",
       "    <tr>\n",
       "      <th>Petr</th>\n",
       "      <td>42</td>\n",
       "      <td>m</td>\n",
       "      <td>22.2. a 29.6</td>\n",
       "      <td>řecký</td>\n",
       "    </tr>\n",
       "    <tr>\n",
       "      <th>Jana</th>\n",
       "      <td>50</td>\n",
       "      <td>ž</td>\n",
       "      <td>24.5</td>\n",
       "      <td>hebrejský</td>\n",
       "    </tr>\n",
       "    <tr>\n",
       "      <th>Marie</th>\n",
       "      <td>65</td>\n",
       "      <td>ž</td>\n",
       "      <td>12.9</td>\n",
       "      <td>hebrejský</td>\n",
       "    </tr>\n",
       "    <tr>\n",
       "      <th>...</th>\n",
       "      <td>...</td>\n",
       "      <td>...</td>\n",
       "      <td>...</td>\n",
       "      <td>...</td>\n",
       "    </tr>\n",
       "    <tr>\n",
       "      <th>Jindřich</th>\n",
       "      <td>51</td>\n",
       "      <td>m</td>\n",
       "      <td>15.7</td>\n",
       "      <td>německý</td>\n",
       "    </tr>\n",
       "    <tr>\n",
       "      <th>Vlastimil</th>\n",
       "      <td>54</td>\n",
       "      <td>m</td>\n",
       "      <td>17.3</td>\n",
       "      <td>slovanský</td>\n",
       "    </tr>\n",
       "    <tr>\n",
       "      <th>Iva</th>\n",
       "      <td>46</td>\n",
       "      <td>ž</td>\n",
       "      <td>1.12</td>\n",
       "      <td>slovanský</td>\n",
       "    </tr>\n",
       "    <tr>\n",
       "      <th>Miloš</th>\n",
       "      <td>53</td>\n",
       "      <td>m</td>\n",
       "      <td>25.1</td>\n",
       "      <td>slovanský</td>\n",
       "    </tr>\n",
       "    <tr>\n",
       "      <th>Zdenka</th>\n",
       "      <td>68</td>\n",
       "      <td>ž</td>\n",
       "      <td>23.6</td>\n",
       "      <td>slovanský</td>\n",
       "    </tr>\n",
       "  </tbody>\n",
       "</table>\n",
       "<p>100 rows × 4 columns</p>\n",
       "</div>"
      ],
      "text/plain": [
       "           věk pohlaví        svátek      původ\n",
       "jméno                                          \n",
       "Jiří        49       m          24.4      řecký\n",
       "Jan         40       m   24.6. a 6.7  hebrejský\n",
       "Petr        42       m  22.2. a 29.6      řecký\n",
       "Jana        50       ž          24.5  hebrejský\n",
       "Marie       65       ž          12.9  hebrejský\n",
       "...        ...     ...           ...        ...\n",
       "Jindřich    51       m          15.7    německý\n",
       "Vlastimil   54       m          17.3  slovanský\n",
       "Iva         46       ž          1.12  slovanský\n",
       "Miloš       53       m          25.1  slovanský\n",
       "Zdenka      68       ž          23.6  slovanský\n",
       "\n",
       "[100 rows x 4 columns]"
      ]
     },
     "execution_count": 127,
     "metadata": {},
     "output_type": "execute_result"
    }
   ],
   "source": [
    "jmena.loc[:,\"věk\":\"původ\"]"
   ]
  }
 ],
 "metadata": {
  "kernelspec": {
   "display_name": "Python 3.9.10 64-bit",
   "language": "python",
   "name": "python3"
  },
  "language_info": {
   "codemirror_mode": {
    "name": "ipython",
    "version": 3
   },
   "file_extension": ".py",
   "mimetype": "text/x-python",
   "name": "python",
   "nbconvert_exporter": "python",
   "pygments_lexer": "ipython3",
   "version": "3.9.10"
  },
  "orig_nbformat": 4,
  "vscode": {
   "interpreter": {
    "hash": "f00788771c7d92cbf9771fb5241b4de77e5fd5f07d70940434cb28721e49d985"
   }
  }
 },
 "nbformat": 4,
 "nbformat_minor": 2
}
