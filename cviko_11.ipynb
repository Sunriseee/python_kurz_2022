{
 "cells": [
  {
   "cell_type": "code",
   "execution_count": 1,
   "metadata": {},
   "outputs": [],
   "source": [
    "# https: // github.com/andywaltlova/python-1-podzim-2022/tree/master/notebooks/regularni-vyrazy\n",
    "# https://regex101.com\n",
    "\n",
    "import re\n",
    "regex_rodne_cislo = re.compile(r\"\\d{9,10}\")\n"
   ]
  },
  {
   "cell_type": "code",
   "execution_count": 2,
   "metadata": {},
   "outputs": [],
   "source": [
    "rezetec = \"Moje rodné číslo je 9511121234\"  # řetězec obsahuje rodné číslo\n",
    "rezetec_presna_shoda = \"9511121234\"  # řetězec je rodné číslo\n"
   ]
  },
  {
   "cell_type": "code",
   "execution_count": null,
   "metadata": {},
   "outputs": [],
   "source": [
    "regex_email = re.compile(r\"\\w+@\\w+\\.cz\")\n",
    "\n",
    "email = \"nfo@czehitas.cz\""
   ]
  }
 ],
 "metadata": {
  "kernelspec": {
   "display_name": "Python 3.9.10 64-bit",
   "language": "python",
   "name": "python3"
  },
  "language_info": {
   "codemirror_mode": {
    "name": "ipython",
    "version": 3
   },
   "file_extension": ".py",
   "mimetype": "text/x-python",
   "name": "python",
   "nbconvert_exporter": "python",
   "pygments_lexer": "ipython3",
   "version": "3.9.10"
  },
  "orig_nbformat": 4,
  "vscode": {
   "interpreter": {
    "hash": "f00788771c7d92cbf9771fb5241b4de77e5fd5f07d70940434cb28721e49d985"
   }
  }
 },
 "nbformat": 4,
 "nbformat_minor": 2
}
